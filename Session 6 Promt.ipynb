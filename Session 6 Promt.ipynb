{
 "cells": [
  {
   "cell_type": "code",
   "execution_count": 1,
   "metadata": {},
   "outputs": [],
   "source": [
    "from numpy import *"
   ]
  },
  {
   "cell_type": "code",
   "execution_count": 2,
   "metadata": {},
   "outputs": [],
   "source": [
    "def cosine(input):\n",
    "    return cos(input)"
   ]
  },
  {
   "cell_type": "code",
   "execution_count": 3,
   "metadata": {},
   "outputs": [],
   "source": [
    "def sine(input):\n",
    "    return sin(input)"
   ]
  },
  {
   "cell_type": "code",
   "execution_count": 4,
   "metadata": {},
   "outputs": [],
   "source": [
    "sinelist = linspace(sine(0),sine(2*pi),1000)\n",
    "cosinelist = linspace(cosine(0),cosine(2*pi),1000)\n",
    "xlist = linspace(0,2*pi,1000)"
   ]
  },
  {
   "cell_type": "markdown",
   "metadata": {},
   "source": [
    "I accidentaly made this after the first 3 boxes and it won't move up so I'm gonna put my comments here.\n",
    "First box imports teh numpy functions as their own word so i don't have to type np.function\n",
    "Second box is a funciton that when called returns cos of the input\n",
    "Third box is like the second one except it returns sin of the input"
   ]
  },
  {
   "cell_type": "code",
   "execution_count": 17,
   "metadata": {},
   "outputs": [
    {
     "name": "stdout",
     "output_type": "stream",
     "text": [
      "x   sin(x)   cosine(x)\n",
      "0.0   0.0   "
     ]
    },
    {
     "ename": "TypeError",
     "evalue": "'function' object is not subscriptable",
     "output_type": "error",
     "traceback": [
      "\u001b[1;31m---------------------------------------------------------------------------\u001b[0m",
      "\u001b[1;31mTypeError\u001b[0m                                 Traceback (most recent call last)",
      "\u001b[1;32mc:\\Users\\mmsmi\\Desktop\\Classes\\ASTR-19\\Session Prompts\\Session 6 Promt.ipynb Cell 6'\u001b[0m in \u001b[0;36m<cell line: 2>\u001b[1;34m()\u001b[0m\n\u001b[0;32m      <a href='vscode-notebook-cell:/c%3A/Users/mmsmi/Desktop/Classes/ASTR-19/Session%20Prompts/Session%206%20Promt.ipynb#ch0000007?line=2'>3</a>\u001b[0m \u001b[39mprint\u001b[39m(xlist[i],end \u001b[39m=\u001b[39m \u001b[39m'\u001b[39m\u001b[39m   \u001b[39m\u001b[39m'\u001b[39m) \n\u001b[0;32m      <a href='vscode-notebook-cell:/c%3A/Users/mmsmi/Desktop/Classes/ASTR-19/Session%20Prompts/Session%206%20Promt.ipynb#ch0000007?line=3'>4</a>\u001b[0m \u001b[39mprint\u001b[39m(sinelist[i],end \u001b[39m=\u001b[39m \u001b[39m'\u001b[39m\u001b[39m   \u001b[39m\u001b[39m'\u001b[39m)\n\u001b[1;32m----> <a href='vscode-notebook-cell:/c%3A/Users/mmsmi/Desktop/Classes/ASTR-19/Session%20Prompts/Session%206%20Promt.ipynb#ch0000007?line=4'>5</a>\u001b[0m \u001b[39mprint\u001b[39m(cosine[i])\n",
      "\u001b[1;31mTypeError\u001b[0m: 'function' object is not subscriptable"
     ]
    }
   ],
   "source": [
    "print('x   sin(x)   cosine(x)')\n",
    "for i in range(9):\n",
    "    print(xlist[i],end = '   ') \n",
    "    print(sinelist[i],end = '   ')\n",
    "    print(cosinelist[i])\n",
    "    "
   ]
  }
 ],
 "metadata": {
  "interpreter": {
   "hash": "c5fd3743869b03cbcf297b32f14fe25bf5b87e04547b26e4b391b4c0454b4b08"
  },
  "kernelspec": {
   "display_name": "Python 3.10.4 64-bit",
   "language": "python",
   "name": "python3"
  },
  "language_info": {
   "codemirror_mode": {
    "name": "ipython",
    "version": 3
   },
   "file_extension": ".py",
   "mimetype": "text/x-python",
   "name": "python",
   "nbconvert_exporter": "python",
   "pygments_lexer": "ipython3",
   "version": "3.10.4"
  },
  "orig_nbformat": 4
 },
 "nbformat": 4,
 "nbformat_minor": 2
}
